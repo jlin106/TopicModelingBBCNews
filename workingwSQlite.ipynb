{
 "cells": [
  {
   "cell_type": "code",
   "execution_count": 2,
   "metadata": {},
   "outputs": [],
   "source": [
    "## Updating the BBCnews table in the news.db with the Tags and Tag IDs\n",
    "import sqlite3\n",
    "import sys\n",
    "import csv\n",
    "import re"
   ]
  },
  {
   "cell_type": "code",
   "execution_count": 2,
   "metadata": {},
   "outputs": [],
   "source": [
    "con = sqlite3.connect('news.db')\n",
    "cur = con.cursor()\n",
    "cur.execute(\"ALTER TABLE BBCnews ADD Tag TEXT;\")\n",
    "con.commit()\n",
    "con.close()"
   ]
  },
  {
   "cell_type": "code",
   "execution_count": 8,
   "metadata": {},
   "outputs": [
    {
     "name": "stdout",
     "output_type": "stream",
     "text": [
      "('blogs_china',)\n",
      "('blogs_eu',)\n",
      "('blogs_magazine_monitor',)\n",
      "('blogs_news_from_elsewhere',)\n",
      "('blogs_ouch',)\n",
      "('blogs_the_papers',)\n",
      "('blogs_trending',)\n",
      "('business_general',)\n",
      "('business_your_money',)\n",
      "('disability',)\n",
      "('education',)\n",
      "('election_england',)\n",
      "('election_general',)\n",
      "('election_london',)\n",
      "('election_northern_ireland',)\n",
      "('election_scotland',)\n",
      "('election_us',)\n",
      "('election_wales',)\n",
      "('entertainment_arts',)\n",
      "('explainers',)\n",
      "('health',)\n",
      "('in_pictures',)\n",
      "('magazine',)\n",
      "('science_environment',)\n",
      "('technology',)\n",
      "('the_reporters',)\n",
      "('uk_england',)\n",
      "('uk_england_beds_bucks_herts',)\n",
      "('uk_england_berkshire',)\n",
      "('uk_england_birmingham',)\n",
      "('uk_england_bradford_west_yorkshire',)\n",
      "('uk_england_bristol',)\n",
      "('uk_england_cambridgeshire',)\n",
      "('uk_england_cornwall',)\n",
      "('uk_england_coventry_warwickshire',)\n",
      "('uk_england_cumbria',)\n",
      "('uk_england_derbyshire',)\n",
      "('uk_england_devon',)\n",
      "('uk_england_dorset',)\n",
      "('uk_england_essex',)\n",
      "('uk_england_gloucestershire',)\n",
      "('uk_england_hampshire',)\n",
      "('uk_england_hereford_worcester',)\n",
      "('uk_england_humber',)\n",
      "('uk_england_kent',)\n",
      "('uk_england_lancashire',)\n",
      "('uk_england_leeds',)\n",
      "('uk_england_leicestershire',)\n",
      "('uk_england_lincolnshire',)\n",
      "('uk_england_london',)\n",
      "('uk_england_manchester',)\n",
      "('uk_england_merseyside',)\n",
      "('uk_england_norfolk',)\n",
      "('uk_england_northamptonshire',)\n",
      "('uk_england_nottinghamshire',)\n",
      "('uk_england_oxfordshire',)\n",
      "('uk_england_shropshire',)\n",
      "('uk_england_somerset',)\n",
      "('uk_england_south_yorkshire',)\n",
      "('uk_england_stoke_staffordshire',)\n",
      "('uk_england_suffolk',)\n",
      "('uk_england_surrey',)\n",
      "('uk_england_sussex',)\n",
      "('uk_england_tees',)\n",
      "('uk_england_tyne',)\n",
      "('uk_england_wiltshire',)\n",
      "('uk_england_york_north_yorkshire',)\n",
      "('uk_general',)\n",
      "('uk_northern_ireland',)\n",
      "('uk_northern_ireland_foyle_west',)\n",
      "('uk_northern_ireland_politics',)\n",
      "('uk_politics',)\n",
      "('uk_politics_eu_referendum',)\n",
      "('uk_politics_parliaments',)\n",
      "('uk_scotland',)\n",
      "('uk_scotland_edinburgh_east_fife',)\n",
      "('uk_scotland_glasgow_west',)\n",
      "('uk_scotland_highlands_islands',)\n",
      "('uk_scotland_north_east_orkney_shetland',)\n",
      "('uk_scotland_scotland_business',)\n",
      "('uk_scotland_scotland_politics',)\n",
      "('uk_scotland_south_scotland',)\n",
      "('uk_scotland_tayside_central',)\n",
      "('uk_wales',)\n",
      "('uk_wales_mid_wales',)\n",
      "('uk_wales_north_east_wales',)\n",
      "('uk_wales_north_west_wales',)\n",
      "('uk_wales_politics',)\n",
      "('uk_wales_south_east_wales',)\n",
      "('uk_wales_south_west_wales',)\n",
      "('world_africa',)\n",
      "('world_asia',)\n",
      "('world_asia_china',)\n",
      "('world_asia_india',)\n",
      "('world_asia_pacific',)\n",
      "('world_australia',)\n",
      "('world_europe',)\n",
      "('world_europe_guernsey',)\n",
      "('world_europe_isle_of_man',)\n",
      "('world_europe_jersey',)\n",
      "('world_general',)\n",
      "('world_latin_america',)\n",
      "('world_middle_east',)\n",
      "('world_radio_and_tv',)\n",
      "('world_south_asia',)\n",
      "('world_us_canada',)\n"
     ]
    }
   ],
   "source": [
    "#updating section names\n",
    "con = sqlite3.connect('news.db')\n",
    "cur = con.cursor()\n",
    "cur.execute(\"UPDATE BBCnews SET Section = 'blogs_china' WHERE Section = 'blogs_china_blog';\")\n",
    "cur.execute(\"UPDATE BBCnews SET Section = 'business_general' WHERE Section = 'business';\")\n",
    "cur.execute(\"UPDATE BBCnews SET Section = 'election_general' WHERE Section = 'election_';\")\n",
    "cur.execute(\"UPDATE BBCnews SET Section = 'election_us' WHERE Section = 'election_us_';\")\n",
    "cur.execute(\"UPDATE BBCnews SET Section = 'uk_general' WHERE Section = 'uk';\")\n",
    "cur.execute(\"UPDATE BBCnews SET Section = 'world_general' WHERE Section = 'world';\")\n",
    "cur.execute(\"UPDATE BBCnews SET Section = 'election_england' WHERE Section = 'election__england';\")\n",
    "cur.execute(\"UPDATE BBCnews SET Section = 'election_london' WHERE Section = 'election__london';\")\n",
    "cur.execute(\"UPDATE BBCnews SET Section = 'election_northern_ireland' WHERE Section = 'election__northern_ireland';\")\n",
    "cur.execute(\"UPDATE BBCnews SET Section = 'election_scotland' WHERE Section = 'election__scotland';\")\n",
    "cur.execute(\"UPDATE BBCnews SET Section = 'election_wales' WHERE Section = 'election__wales';\")\n",
    "con.commit()\n",
    "con.close()"
   ]
  },
  {
   "cell_type": "code",
   "execution_count": 9,
   "metadata": {},
   "outputs": [],
   "source": [
    "#Adding Tags (General Topics)\n",
    "con = sqlite3.connect('news.db')\n",
    "cur = con.cursor()\n",
    "cur.execute(\"UPDATE BBCNews SET Tag = 'Blogs' WHERE Section IN ('blogs_magazine_monitor', 'blogs_news_from_elsewhere','blogs_ouch','blogs_the_papers','blogs_trending','in_pictures','magazine','the_reporters','explainers');\")\n",
    "cur.execute(\"UPDATE BBCNews SET Tag = 'Business' WHERE Section IN ('business_general','business_your_money');\")\n",
    "cur.execute(\"UPDATE BBCNews SET Tag = 'Education' WHERE Section = 'education';\")\n",
    "cur.execute(\"UPDATE BBCNews SET Tag = 'Entertainment' WHERE Section IN ('entertainment_arts','world_radio_and_tv');\")\n",
    "cur.execute(\"UPDATE BBCNews SET Tag = 'Health' WHERE Section IN ('health','disability');\")\n",
    "cur.execute(\"UPDATE BBCNews SET Tag = 'Science' WHERE Section IN ('science_environment','technology');\")\n",
    "con.commit()\n",
    "con.close()"
   ]
  },
  {
   "cell_type": "code",
   "execution_count": 11,
   "metadata": {},
   "outputs": [],
   "source": [
    "#Adding Tags (World General)\n",
    "con = sqlite3.connect('news.db')\n",
    "cur = con.cursor()\n",
    "cur.execute(\"UPDATE BBCNews SET Tag = 'United Kingdom' WHERE Section IN ('uk_general','uk_politics','uk_politics_eu_referendum','uk_politics_parliaments');\")\n",
    "cur.execute(\"UPDATE BBCNews SET Tag = 'Europe' WHERE Section IN ('world_europe','world_europe_guernsey','world_europe_isle_of_man','world_europe_jersey','blogs_eu');\")\n",
    "cur.execute(\"UPDATE BBCNews SET Tag = 'Africa' WHERE Section = 'world_africa';\")\n",
    "cur.execute(\"UPDATE BBCNews SET Tag = 'Asia' WHERE Section IN ('world_asia','blogs_china','world_asia_china','world_asia_india','world_asia_pacific','world_south_asia');\")\n",
    "cur.execute(\"UPDATE BBCNews SET Tag = 'Australia' WHERE Section = 'world_australia';\")\n",
    "cur.execute(\"UPDATE BBCNews SET Tag = 'Latin America' WHERE Section = 'world_latin_america';\")\n",
    "cur.execute(\"UPDATE BBCNews SET Tag = 'Middle East' WHERE Section = 'world_middle_east';\")\n",
    "cur.execute(\"UPDATE BBCNews SET Tag = 'US/Canada' WHERE Section IN ('world_us_canada','election_us');\")\n",
    "con.commit()\n",
    "con.close()"
   ]
  },
  {
   "cell_type": "code",
   "execution_count": 12,
   "metadata": {},
   "outputs": [],
   "source": [
    "#Adding Tags (UK General)\n",
    "con = sqlite3.connect('news.db')\n",
    "cur = con.cursor()\n",
    "cur.execute(\"UPDATE BBCNews SET Tag = 'England' WHERE Section IN ('uk_england','election_england','election_london');\")\n",
    "cur.execute(\"UPDATE BBCNews SET Tag = 'Wales' WHERE Section IN ('uk_wales','uk_wales_politics','election_wales');\")\n",
    "cur.execute(\"UPDATE BBCNews SET Tag = 'Northern Ireland' WHERE Section IN ('uk_northern_ireland','uk_northern_ireland_politics','election_northern_ireland');\")\n",
    "cur.execute(\"UPDATE BBCNews SET Tag = 'Scotland' WHERE Section IN ('uk_scotland','uk_scotland_scotland_business','uk_scotland_scotland_politics','election_scotland');\")\n",
    "con.commit()\n",
    "con.close()"
   ]
  },
  {
   "cell_type": "code",
   "execution_count": 49,
   "metadata": {},
   "outputs": [],
   "source": [
    "topic_list = ['blogs_china', 'blogs_eu', 'blogs_magazine_monitor', 'blogs_news_from_elsewhere', 'blogs_ouch', \n",
    "              'blogs_the_papers', 'blogs_trending', 'business_general', 'business_your_money', 'disability', \n",
    "              'education', 'election_england', 'election_general', 'election_london', 'election_northern_ireland', \n",
    "              'election_scotland', 'election_us', 'election_wales', 'entertainment_arts', 'explainers', 'health', \n",
    "              'in_pictures', 'magazine', 'science_environment', 'technology', 'the_reporters', 'uk_england', \n",
    "              'uk_england_beds_bucks_herts', 'uk_england_berkshire', 'uk_england_birmingham', 'uk_england_bradford_west_yorkshire', \n",
    "              'uk_england_bristol', 'uk_england_cambridgeshire', 'uk_england_cornwall', 'uk_england_coventry_warwickshire', \n",
    "              'uk_england_cumbria', 'uk_england_derbyshire', 'uk_england_devon', 'uk_england_dorset', 'uk_england_essex', \n",
    "              'uk_england_gloucestershire', 'uk_england_hampshire', 'uk_england_hereford_worcester', 'uk_england_humber', \n",
    "              'uk_england_kent', 'uk_england_lancashire', 'uk_england_leeds', 'uk_england_leicestershire', \n",
    "              'uk_england_lincolnshire', 'uk_england_london', 'uk_england_manchester', 'uk_england_merseyside', \n",
    "              'uk_england_norfolk', 'uk_england_northamptonshire', 'uk_england_nottinghamshire', 'uk_england_oxfordshire', \n",
    "              'uk_england_shropshire', 'uk_england_somerset', 'uk_england_south_yorkshire', 'uk_england_stoke_staffordshire', \n",
    "              'uk_england_suffolk', 'uk_england_surrey', 'uk_england_sussex', 'uk_england_tees', 'uk_england_tyne', \n",
    "              'uk_england_wiltshire', 'uk_england_york_north_yorkshire', 'uk_general', 'uk_northern_ireland', \n",
    "              'uk_northern_ireland_foyle_west', 'uk_northern_ireland_politics', 'uk_politics', 'uk_politics_eu_referendum', \n",
    "              'uk_politics_parliaments', 'uk_scotland', 'uk_scotland_edinburgh_east_fife', 'uk_scotland_glasgow_west', \n",
    "              'uk_scotland_highlands_islands', 'uk_scotland_north_east_orkney_shetland', 'uk_scotland_scotland_business', \n",
    "              'uk_scotland_scotland_politics', 'uk_scotland_south_scotland', 'uk_scotland_tayside_central', 'uk_wales', \n",
    "              'uk_wales_mid_wales', 'uk_wales_north_east_wales', 'uk_wales_north_west_wales', 'uk_wales_politics', \n",
    "              'uk_wales_south_east_wales', 'uk_wales_south_west_wales', 'world_africa', 'world_asia', 'world_asia_china', \n",
    "              'world_asia_india', 'world_asia_pacific', 'world_australia', 'world_europe', 'world_europe_guernsey', \n",
    "              'world_europe_isle_of_man', 'world_europe_jersey', 'world_general', 'world_latin_america', 'world_middle_east', \n",
    "              'world_radio_and_tv', 'world_south_asia', 'world_us_canada']"
   ]
  },
  {
   "cell_type": "code",
   "execution_count": 47,
   "metadata": {},
   "outputs": [],
   "source": [
    "england_topics = ['uk_england_beds_bucks_herts', 'uk_england_berkshire', 'uk_england_birmingham', \n",
    "              'uk_england_bradford_west_yorkshire', 'uk_england_bristol', 'uk_england_cambridgeshire', \n",
    "              'uk_england_cornwall', 'uk_england_coventry_warwickshire', 'uk_england_cumbria', \n",
    "              'uk_england_derbyshire', 'uk_england_devon', 'uk_england_dorset', 'uk_england_essex', \n",
    "              'uk_england_gloucestershire', 'uk_england_hampshire', 'uk_england_hereford_worcester', \n",
    "              'uk_england_humber', 'uk_england_kent', 'uk_england_lancashire', 'uk_england_leeds', \n",
    "              'uk_england_leicestershire', 'uk_england_lincolnshire', 'uk_england_london', 'uk_england_manchester', \n",
    "              'uk_england_merseyside', 'uk_england_norfolk', 'uk_england_northamptonshire', \n",
    "              'uk_england_nottinghamshire', 'uk_england_oxfordshire', 'uk_england_shropshire', \n",
    "              'uk_england_somerset', 'uk_england_south_yorkshire', 'uk_england_stoke_staffordshire', \n",
    "              'uk_england_suffolk', 'uk_england_surrey', 'uk_england_sussex', 'uk_england_tees',\n",
    "              'uk_england_tyne', 'uk_england_wiltshire', 'uk_england_york_north_yorkshire']\n",
    "england_revised = ['Beds Bucks Herts', 'Berkshire', 'Birmingham', 'Bradford West Yorkshire', 'Bristol', 'Cambridgeshire',\n",
    "                   'Cornwall', 'Coventry Warwickshire', 'Cumbria', 'Derbyshire', 'Devon', 'Dorset', 'Essex', 'Gloucestershire', \n",
    "                   'Hampshire', 'Hereford Worcester', 'Humber', 'Kent', 'Lancashire', 'Leeds', 'Leicestershire', 'Lincolnshire', \n",
    "                   'London', 'Manchester', 'Merseyside', 'Norfolk', 'Northamptonshire', 'Nottinghamshire', 'Oxfordshire', \n",
    "                   'Shropshire', 'Somerset', 'South Yorkshire', 'Stoke Staffordshire', 'Suffolk', 'Surrey', 'Sussex', 'Tees', \n",
    "                   'Tyne', 'Wiltshire', 'York North Yorkshire']"
   ]
  },
  {
   "cell_type": "code",
   "execution_count": 46,
   "metadata": {},
   "outputs": [],
   "source": [
    "#Adding Tags (England)\n",
    "con = sqlite3.connect('news.db')\n",
    "cur = con.cursor()\n",
    "for x in range(40):\n",
    "    cur.execute(\"UPDATE BBCNews SET Tag = ? WHERE Section = ?;\", (england_revised[x],england_topics[x],))\n",
    "con.commit()\n",
    "con.close()"
   ]
  },
  {
   "cell_type": "code",
   "execution_count": 67,
   "metadata": {},
   "outputs": [],
   "source": [
    "wales_topics = ['uk_wales_mid_wales', 'uk_wales_north_east_wales', 'uk_wales_north_west_wales', 'uk_wales_south_east_wales', 'uk_wales_south_west_wales']\n",
    "wales_revised = ['Mid Wales', 'North East Wales', 'North West Wales', 'South East Wales', 'South West Wales']"
   ]
  },
  {
   "cell_type": "code",
   "execution_count": 69,
   "metadata": {},
   "outputs": [],
   "source": [
    "#Adding Tags (Wales)\n",
    "con = sqlite3.connect('news.db')\n",
    "cur = con.cursor()\n",
    "for x in range(5):\n",
    "    cur.execute(\"UPDATE BBCNews SET Tag = ? WHERE Section = ?;\", (wales_revised[x],wales_topics[x],))\n",
    "con.commit()\n",
    "con.close()"
   ]
  },
  {
   "cell_type": "code",
   "execution_count": 82,
   "metadata": {},
   "outputs": [],
   "source": [
    "scotland_topics = ['uk_scotland_edinburgh_east_fife', 'uk_scotland_glasgow_west', 'uk_scotland_highlands_islands', 'uk_scotland_north_east_orkney_shetland', 'uk_scotland_south_scotland', 'uk_scotland_tayside_central']\n",
    "scotland_revised = ['Edinburgh East Fife', 'Glasgow West', 'Highlands Islands', 'North East Orkney Shetland', 'South Scotland', 'Tayside Central']"
   ]
  },
  {
   "cell_type": "code",
   "execution_count": 85,
   "metadata": {},
   "outputs": [],
   "source": [
    "#Adding Tags (Scotland/Ireland)\n",
    "con = sqlite3.connect('news.db')\n",
    "cur = con.cursor()\n",
    "cur.execute(\"UPDATE BBCNews SET Tag = 'Foyle' WHERE Section = 'uk_northern_ireland_foyle_west';\")\n",
    "for x in range(6):\n",
    "    cur.execute(\"UPDATE BBCNews SET Tag = ? WHERE Section = ?;\", (scotland_revised[x],scotland_topics[x],))\n",
    "con.commit()\n",
    "con.close()"
   ]
  },
  {
   "cell_type": "code",
   "execution_count": 58,
   "metadata": {},
   "outputs": [],
   "source": [
    "#Adding Tags (General)\n",
    "con = sqlite3.connect('news.db')\n",
    "cur = con.cursor()\n",
    "cur.execute(\"UPDATE BBCNews SET Tag = 'General' WHERE Section IN ('world_general','election_general');\")\n",
    "con.commit()\n",
    "con.close()"
   ]
  },
  {
   "cell_type": "code",
   "execution_count": 59,
   "metadata": {},
   "outputs": [],
   "source": [
    "# create a list of the distinct tags\n",
    "tags = []\n",
    "con = sqlite3.connect('news.db')\n",
    "cur = con.cursor()\n",
    "cur.execute(\"SELECT DISTINCT Tag FROM BBCnews ORDER BY Tag Asc;\")\n",
    "for i in cur:\n",
    "    tags.append((i[0]))"
   ]
  },
  {
   "cell_type": "code",
   "execution_count": 60,
   "metadata": {},
   "outputs": [
    {
     "name": "stdout",
     "output_type": "stream",
     "text": [
      "['Africa', 'Asia', 'Australia', 'Beds Bucks Herts', 'Berkshire', 'Birmingham', 'Blogs', 'Bradford West Yorkshire', 'Bristol', 'Business', 'Cambridgeshire', 'Cornwall', 'Coventry Warwickshire', 'Cumbria', 'Derbyshire', 'Devon', 'Dorset', 'Edinburgh East Fife', 'Education', 'England', 'Entertainment', 'Essex', 'Europe', 'Foyle', 'General', 'Glasgow West', 'Gloucestershire', 'Hampshire', 'Health', 'Hereford Worcester', 'Highlands Islands', 'Humber', 'Kent', 'Lancashire', 'Latin America', 'Leeds', 'Leicestershire', 'Lincolnshire', 'London', 'Manchester', 'Merseyside', 'Mid Wales', 'Middle East', 'Norfolk', 'North East Orkney Shetland', 'North East Wales', 'North West Wales', 'Northamptonshire', 'Northern Ireland', 'Nottinghamshire', 'Oxfordshire', 'Science', 'Scotland', 'Shropshire', 'Somerset', 'South East Wales', 'South Scotland', 'South West Wales', 'South Yorkshire', 'Stoke Staffordshire', 'Suffolk', 'Surrey', 'Sussex', 'Tayside Central', 'Tees', 'Tyne', 'US/Canada', 'United Kingdom', 'Wales', 'Wiltshire', 'York North Yorkshire']\n"
     ]
    }
   ],
   "source": [
    "print(tags)"
   ]
  },
  {
   "cell_type": "code",
   "execution_count": 61,
   "metadata": {},
   "outputs": [],
   "source": [
    "# assign a tag ID to each tag\n",
    "tags_dic = {}\n",
    "index = 0\n",
    "for value in tags:\n",
    "    tags_dic[str(index)] = value\n",
    "    index += 1"
   ]
  },
  {
   "cell_type": "code",
   "execution_count": 62,
   "metadata": {},
   "outputs": [
    {
     "name": "stdout",
     "output_type": "stream",
     "text": [
      "{'0': 'Africa', '1': 'Asia', '2': 'Australia', '3': 'Beds Bucks Herts', '4': 'Berkshire', '5': 'Birmingham', '6': 'Blogs', '7': 'Bradford West Yorkshire', '8': 'Bristol', '9': 'Business', '10': 'Cambridgeshire', '11': 'Cornwall', '12': 'Coventry Warwickshire', '13': 'Cumbria', '14': 'Derbyshire', '15': 'Devon', '16': 'Dorset', '17': 'Edinburgh East Fife', '18': 'Education', '19': 'England', '20': 'Entertainment', '21': 'Essex', '22': 'Europe', '23': 'Foyle', '24': 'General', '25': 'Glasgow West', '26': 'Gloucestershire', '27': 'Hampshire', '28': 'Health', '29': 'Hereford Worcester', '30': 'Highlands Islands', '31': 'Humber', '32': 'Kent', '33': 'Lancashire', '34': 'Latin America', '35': 'Leeds', '36': 'Leicestershire', '37': 'Lincolnshire', '38': 'London', '39': 'Manchester', '40': 'Merseyside', '41': 'Mid Wales', '42': 'Middle East', '43': 'Norfolk', '44': 'North East Orkney Shetland', '45': 'North East Wales', '46': 'North West Wales', '47': 'Northamptonshire', '48': 'Northern Ireland', '49': 'Nottinghamshire', '50': 'Oxfordshire', '51': 'Science', '52': 'Scotland', '53': 'Shropshire', '54': 'Somerset', '55': 'South East Wales', '56': 'South Scotland', '57': 'South West Wales', '58': 'South Yorkshire', '59': 'Stoke Staffordshire', '60': 'Suffolk', '61': 'Surrey', '62': 'Sussex', '63': 'Tayside Central', '64': 'Tees', '65': 'Tyne', '66': 'US/Canada', '67': 'United Kingdom', '68': 'Wales', '69': 'Wiltshire', '70': 'York North Yorkshire'}\n"
     ]
    }
   ],
   "source": [
    "print(tags_dic)"
   ]
  },
  {
   "cell_type": "code",
   "execution_count": 23,
   "metadata": {},
   "outputs": [],
   "source": [
    "# add a column to the BBCnews table for the unique tag ID\n",
    "con = sqlite3.connect('news.db')\n",
    "cur = con.cursor()\n",
    "cur.execute(\"ALTER TABLE BBCnews ADD TagID Text;\")\n",
    "con.commit()\n",
    "con.close()"
   ]
  },
  {
   "cell_type": "code",
   "execution_count": 63,
   "metadata": {},
   "outputs": [],
   "source": [
    "con = sqlite3.connect('news.db')\n",
    "cur = con.cursor()\n",
    "for i in range(1, 36163):\n",
    "    cur.execute(\"SELECT Tag FROM BBCnews WHERE ID = ?;\",(i,))\n",
    "    tag = cur.fetchall()[0][0]\n",
    "    for key, value in tags_dic.items():\n",
    "        if tag == value:\n",
    "            cur.execute(\"UPDATE BBCNews SET TagID = ? WHERE ID = ?;\", (key, i,))\n",
    "con.commit()\n",
    "con.close()"
   ]
  },
  {
   "cell_type": "code",
   "execution_count": null,
   "metadata": {},
   "outputs": [],
   "source": []
  }
 ],
 "metadata": {
  "kernelspec": {
   "display_name": "Python 3",
   "language": "python",
   "name": "python3"
  },
  "language_info": {
   "codemirror_mode": {
    "name": "ipython",
    "version": 3
   },
   "file_extension": ".py",
   "mimetype": "text/x-python",
   "name": "python",
   "nbconvert_exporter": "python",
   "pygments_lexer": "ipython3",
   "version": "3.6.5"
  }
 },
 "nbformat": 4,
 "nbformat_minor": 2
}
